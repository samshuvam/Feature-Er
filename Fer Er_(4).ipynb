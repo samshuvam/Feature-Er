{
  "nbformat": 4,
  "nbformat_minor": 0,
  "metadata": {
    "colab": {
      "provenance": []
    },
    "kernelspec": {
      "name": "python3",
      "display_name": "Python 3"
    },
    "language_info": {
      "name": "python"
    }
  },
  "cells": [
    {
      "cell_type": "markdown",
      "source": [
        "# Importing the necessary libraries"
      ],
      "metadata": {
        "id": "WIbpAFuvQCsR"
      }
    },
    {
      "cell_type": "code",
      "source": [
        "import numpy as np"
      ],
      "metadata": {
        "id": "Op95q5ryQQf6"
      },
      "execution_count": 9,
      "outputs": []
    },
    {
      "cell_type": "markdown",
      "source": [
        "# Step 1: Generating a random matrix of MxN dimensions (M features, N samples)"
      ],
      "metadata": {
        "id": "omdEXj1SQFIf"
      }
    },
    {
      "cell_type": "code",
      "source": [
        "M, N = 5, 10\n",
        "matrix = np.random.rand(M, N)"
      ],
      "metadata": {
        "id": "YrcwJvygQS7d"
      },
      "execution_count": 10,
      "outputs": []
    },
    {
      "cell_type": "markdown",
      "source": [
        "# Step 2: Computing the covariance matrix\n"
      ],
      "metadata": {
        "id": "mPO5oXZaQHis"
      }
    },
    {
      "cell_type": "code",
      "source": [
        "# cov_matrix = np.cov(matrix)\n",
        "cov_matrix = np.round(np.cov(matrix), 2)"
      ],
      "metadata": {
        "id": "Yh3FKoVOQY-D"
      },
      "execution_count": 11,
      "outputs": []
    },
    {
      "cell_type": "markdown",
      "source": [
        "# Step 3: Computing the correlation matrix\n"
      ],
      "metadata": {
        "id": "MFqPcxJrQJeC"
      }
    },
    {
      "cell_type": "code",
      "source": [
        "# corr_matrix = np.corrcoef(matrix)\n",
        "corr_matrix = np.round(np.corrcoef(matrix), 2)"
      ],
      "metadata": {
        "id": "dVIApo4XQcNU"
      },
      "execution_count": 12,
      "outputs": []
    },
    {
      "cell_type": "markdown",
      "source": [
        "#Precision"
      ],
      "metadata": {
        "id": "EOOmRxwhQx7Z"
      }
    },
    {
      "cell_type": "code",
      "source": [
        "# np.set_printoptions(precision=2)"
      ],
      "metadata": {
        "id": "glb5nOcCQ1MX"
      },
      "execution_count": 13,
      "outputs": []
    },
    {
      "cell_type": "markdown",
      "source": [
        "# Step 4: Output\n"
      ],
      "metadata": {
        "id": "2JFJPfBDQLU4"
      }
    },
    {
      "cell_type": "code",
      "execution_count": 14,
      "metadata": {
        "colab": {
          "base_uri": "https://localhost:8080/"
        },
        "id": "1ffGQEHlP7Qj",
        "outputId": "8176e9ec-5eca-4f6a-9ddd-4d4f1adf0d23"
      },
      "outputs": [
        {
          "output_type": "stream",
          "name": "stdout",
          "text": [
            "Matrix (MxN):\n",
            "[[0.75 0.82 0.28 0.74 0.2  0.46 0.15 0.24 0.96 0.55]\n",
            " [0.3  0.25 0.58 0.68 0.82 0.18 0.85 0.13 0.27 0.39]\n",
            " [0.91 0.13 0.59 0.15 0.54 0.15 0.33 0.84 0.19 0.75]\n",
            " [0.34 0.36 0.44 0.46 0.64 0.05 0.34 0.93 0.36 0.51]\n",
            " [0.93 0.31 0.6  0.78 0.43 0.05 0.96 0.57 0.56 0.97]]\n",
            "Covariance Matrix:\n",
            "[[ 0.09 -0.04 -0.03 -0.02 -0.  ]\n",
            " [-0.04  0.07 -0.01  0.    0.03]\n",
            " [-0.03 -0.01  0.09  0.04  0.04]\n",
            " [-0.02  0.    0.04  0.05  0.02]\n",
            " [-0.    0.03  0.04  0.02  0.09]]\n",
            "Correlation Matrix:\n",
            "[[ 1.   -0.45 -0.34 -0.37 -0.01]\n",
            " [-0.45  1.   -0.12  0.06  0.38]\n",
            " [-0.34 -0.12  1.    0.56  0.48]\n",
            " [-0.37  0.06  0.56  1.    0.23]\n",
            " [-0.01  0.38  0.48  0.23  1.  ]]\n"
          ]
        }
      ],
      "source": [
        "# print(f\"Matrix (MxN):\\n{matrix:.3f}\")\n",
        "# print(f\"Covariance Matrix:\\n{cov_matrix:.3f}\")\n",
        "# print(f\"Correlation Matrix:\\n{corr_matrix:.3f}\")\n",
        "print(f\"Matrix (MxN):\\n{np.round(matrix, 2)}\")\n",
        "print(f\"Covariance Matrix:\\n{cov_matrix}\")\n",
        "print(f\"Correlation Matrix:\\n{corr_matrix}\")"
      ]
    }
  ]
}