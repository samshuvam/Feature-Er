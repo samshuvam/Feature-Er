{
  "nbformat": 4,
  "nbformat_minor": 0,
  "metadata": {
    "colab": {
      "provenance": []
    },
    "kernelspec": {
      "name": "python3",
      "display_name": "Python 3"
    },
    "language_info": {
      "name": "python"
    }
  },
  "cells": [
    {
      "cell_type": "markdown",
      "source": [
        "# Import necessary libraries"
      ],
      "metadata": {
        "id": "4Y9Av5Y5xda0"
      }
    },
    {
      "cell_type": "code",
      "source": [
        "import numpy as np"
      ],
      "metadata": {
        "id": "mwQauSc1xRjM"
      },
      "execution_count": 56,
      "outputs": []
    },
    {
      "cell_type": "markdown",
      "source": [
        "# Step 1: Generate two 1xM dimensional feature vectors (arrays)"
      ],
      "metadata": {
        "id": "l0SDtZwnxe9e"
      }
    },
    {
      "cell_type": "code",
      "source": [
        "N = 10\n",
        "vector1 = np.random.rand(N)\n",
        "vector2 = vector1 + np.random.rand(N)"
      ],
      "metadata": {
        "id": "66WmJOxGxS3D"
      },
      "execution_count": 57,
      "outputs": []
    },
    {
      "cell_type": "markdown",
      "source": [
        "# Step 2: Compute the covariance between the two vectors"
      ],
      "metadata": {
        "id": "rqukmelXxpc8"
      }
    },
    {
      "cell_type": "code",
      "source": [
        "covariance = np.cov(vector1, vector2)[0, 1]"
      ],
      "metadata": {
        "id": "kmG_WO1JxT95"
      },
      "execution_count": 58,
      "outputs": []
    },
    {
      "cell_type": "markdown",
      "source": [
        "#Precision 3"
      ],
      "metadata": {
        "id": "RlVFO2rZzGLy"
      }
    },
    {
      "cell_type": "code",
      "source": [
        "np.set_printoptions(precision=3)"
      ],
      "metadata": {
        "id": "CbUDiHHJzEzz"
      },
      "execution_count": 59,
      "outputs": []
    },
    {
      "cell_type": "markdown",
      "source": [
        "# Step 3: Output the results"
      ],
      "metadata": {
        "id": "YwInnY8Sxr2j"
      }
    },
    {
      "cell_type": "code",
      "source": [
        "print(f\"Vector 1: {vector1}\")\n",
        "print(f\"Vector 2: {vector2}\")\n",
        "print(f\"Covariance between the vectors: {covariance:.3f}\")"
      ],
      "metadata": {
        "colab": {
          "base_uri": "https://localhost:8080/"
        },
        "id": "Fh_zZSrjxVac",
        "outputId": "fb58d7f6-af20-4dd2-b608-ba765b35629d"
      },
      "execution_count": 60,
      "outputs": [
        {
          "output_type": "stream",
          "name": "stdout",
          "text": [
            "Vector 1: [0.429 0.212 0.939 0.12  0.672 0.065 0.36  0.931 0.328 0.521]\n",
            "Vector 2: [1.121 0.274 1.425 0.287 1.171 0.527 1.133 1.463 0.808 1.117]\n",
            "Covariance between the vectors: 0.120\n"
          ]
        }
      ]
    }
  ]
}