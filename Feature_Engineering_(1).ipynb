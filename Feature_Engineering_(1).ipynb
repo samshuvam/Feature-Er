{
  "nbformat": 4,
  "nbformat_minor": 0,
  "metadata": {
    "colab": {
      "provenance": []
    },
    "kernelspec": {
      "name": "python3",
      "display_name": "Python 3"
    },
    "language_info": {
      "name": "python"
    }
  },
  "cells": [
    {
      "cell_type": "markdown",
      "source": [
        "#Import necessary libraries"
      ],
      "metadata": {
        "id": "dMMxsf6hnjDu"
      }
    },
    {
      "cell_type": "code",
      "source": [
        "import numpy as np"
      ],
      "metadata": {
        "id": "QCjFlWf-nQ92"
      },
      "execution_count": 6,
      "outputs": []
    },
    {
      "cell_type": "markdown",
      "source": [
        "# Step 1: Generate a 1xN dimensional feature vector (array)"
      ],
      "metadata": {
        "id": "MJR9l6XwoGBL"
      }
    },
    {
      "cell_type": "code",
      "source": [
        "N = 20\n",
        "vector = np.random.rand(N)"
      ],
      "metadata": {
        "id": "00xTq0V-nSWX"
      },
      "execution_count": 7,
      "outputs": []
    },
    {
      "cell_type": "markdown",
      "source": [
        "# Step 2: Compute the mean"
      ],
      "metadata": {
        "id": "460czucKoJAg"
      }
    },
    {
      "cell_type": "code",
      "source": [
        "mean = np.mean(vector)"
      ],
      "metadata": {
        "id": "bfMkgdMSnTd-"
      },
      "execution_count": 8,
      "outputs": []
    },
    {
      "cell_type": "markdown",
      "source": [
        "# Step 3: Compute the variance"
      ],
      "metadata": {
        "id": "UZTsnAtIoK_w"
      }
    },
    {
      "cell_type": "code",
      "source": [
        "variance = np.var(vector)"
      ],
      "metadata": {
        "id": "hn56SzfPnUtg"
      },
      "execution_count": 9,
      "outputs": []
    },
    {
      "cell_type": "markdown",
      "source": [
        "# Step 4: Output the results"
      ],
      "metadata": {
        "id": "GF29jfSZoN3n"
      }
    },
    {
      "cell_type": "code",
      "source": [
        "print(f\"Vector: {vector}\")\n",
        "print(f\"Mean: {mean}\")\n",
        "print(f\"Variance: {variance}\")"
      ],
      "metadata": {
        "colab": {
          "base_uri": "https://localhost:8080/"
        },
        "id": "BRMRuFdunWAi",
        "outputId": "612705e6-27a6-4610-8717-e6a858197d52"
      },
      "execution_count": 10,
      "outputs": [
        {
          "output_type": "stream",
          "name": "stdout",
          "text": [
            "Vector: [0.69026917 0.23105741 0.08747785 0.59076584 0.96663268 0.89567941\n",
            " 0.40399017 0.19208938 0.08355651 0.40971846 0.20184142 0.51053759\n",
            " 0.0444678  0.20430351 0.1516258  0.58953179 0.73537612 0.47641585\n",
            " 0.47660336 0.88716247]\n",
            "Mean: 0.4414551292539978\n",
            "Variance: 0.07990214237223434\n"
          ]
        }
      ]
    }
  ]
}