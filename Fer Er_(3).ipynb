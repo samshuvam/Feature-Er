{
  "nbformat": 4,
  "nbformat_minor": 0,
  "metadata": {
    "colab": {
      "provenance": []
    },
    "kernelspec": {
      "name": "python3",
      "display_name": "Python 3"
    },
    "language_info": {
      "name": "python"
    }
  },
  "cells": [
    {
      "cell_type": "markdown",
      "source": [
        "# Importing necessary libraries"
      ],
      "metadata": {
        "id": "1_pXT6Y7LOvp"
      }
    },
    {
      "cell_type": "code",
      "source": [
        "import numpy as np"
      ],
      "metadata": {
        "id": "LbbwODufLOYL"
      },
      "execution_count": 7,
      "outputs": []
    },
    {
      "cell_type": "markdown",
      "source": [
        "# Step 1: generating two 1xN dimensional feature vectors (arrays)"
      ],
      "metadata": {
        "id": "js3SrrLrLS-1"
      }
    },
    {
      "cell_type": "code",
      "source": [
        "N = 10\n",
        "vector1 = np.random.rand(N)\n",
        "vector2 = np.random.rand(N)"
      ],
      "metadata": {
        "id": "4aqRDRMrLUlw"
      },
      "execution_count": 8,
      "outputs": []
    },
    {
      "cell_type": "markdown",
      "source": [
        "# Step 2:Finding the correlation between the two vectors\n"
      ],
      "metadata": {
        "id": "NnBOIF_1LWtw"
      }
    },
    {
      "cell_type": "code",
      "source": [
        "correlation = np.corrcoef(vector1, vector2)[0, 1]\n"
      ],
      "metadata": {
        "id": "mxk_LN-wLZAH"
      },
      "execution_count": 9,
      "outputs": []
    },
    {
      "cell_type": "markdown",
      "source": [
        "#precision"
      ],
      "metadata": {
        "id": "4FKIJi2qLsAe"
      }
    },
    {
      "cell_type": "code",
      "source": [
        "np.set_printoptions(precision=3)"
      ],
      "metadata": {
        "id": "CdfuFLqdLtim"
      },
      "execution_count": 10,
      "outputs": []
    },
    {
      "cell_type": "markdown",
      "source": [
        "# Step 3: Output the results\n"
      ],
      "metadata": {
        "id": "-PTZOXTILagf"
      }
    },
    {
      "cell_type": "code",
      "source": [
        "print(f\"Vector 1: {vector1}\")\n",
        "print(f\"Vector 2: {vector2}\")\n",
        "print(f\"Correlation between the vectors: {correlation:.3f}\")"
      ],
      "metadata": {
        "colab": {
          "base_uri": "https://localhost:8080/"
        },
        "id": "WZEU2bTuLeyt",
        "outputId": "942060e9-fb21-4385-eb31-a490d52bcd42"
      },
      "execution_count": 11,
      "outputs": [
        {
          "output_type": "stream",
          "name": "stdout",
          "text": [
            "Vector 1: [0.876 0.964 0.038 0.436 0.362 0.969 0.991 0.584 0.928 0.427]\n",
            "Vector 2: [0.148 0.915 0.084 0.245 0.766 0.184 0.154 0.477 0.684 0.466]\n",
            "Correlation between the vectors: 0.149\n"
          ]
        }
      ]
    }
  ]
}